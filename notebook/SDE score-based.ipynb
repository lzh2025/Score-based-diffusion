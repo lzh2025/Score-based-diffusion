{
 "cells": [
  {
   "cell_type": "markdown",
   "id": "8154bfcf",
   "metadata": {},
   "source": [
    "# Part 1. U-net based Time-dependent SDE Score Network"
   ]
  },
  {
   "cell_type": "code",
   "execution_count": 1,
   "id": "3770d721",
   "metadata": {},
   "outputs": [
    {
     "ename": "SyntaxError",
     "evalue": "EOF while scanning triple-quoted string literal (991673983.py, line 8)",
     "output_type": "error",
     "traceback": [
      "\u001b[1;36m  Cell \u001b[1;32mIn [1], line 8\u001b[1;36m\u001b[0m\n\u001b[1;33m    \"\"\"\"\"\"\"\"\"\"\u001b[0m\n\u001b[1;37m              ^\u001b[0m\n\u001b[1;31mSyntaxError\u001b[0m\u001b[1;31m:\u001b[0m EOF while scanning triple-quoted string literal\n"
     ]
    }
   ],
   "source": [
    "import torch\n",
    "import torch.nn as nn\n",
    "import torch.nn.functional as F\n",
    "import numpy as np\n",
    "import functools\n",
    "\n",
    "# https://arxiv.org/abs/2006.10739\n",
    "# Gaussian random features + 时间维度 embeding\n",
    "class TimeEncoding(nn.Module):\n",
    "    def __init__(self, embed_dim, scale = 30.0):\n",
    "        super().__init__()\n",
    "        # 高斯随机特征，https://colab.research.google.com/drive/120kYYBOVa1i0TD85RjlEkFjaWDxSFUx3?usp=sharing#scrollTo=yC49nk6ZXqOS不需要梯度\n",
    "        self.W = nn.Parameter(torch.randn(embed_dim // 2) * scale, requires_gard = False)\n",
    "    def forward(self, x):\n",
    "        x_proj = x[:, None] * self.W[None, :] * 2 * np.pi\n",
    "        # 拼接sin2wxt\n",
    "        return torch.cat([torch.sin(x_proj), torch.cos(x_proj)], dim = -1)\n",
    "\n",
    "# mlp 扩充输出维度\n",
    "class Dense(nn.Module):\n",
    "    def __init__(self, input_dim, output_dim):\n",
    "        super().__init__()\n",
    "        self.dense = nn.Linear(input_dim, output_dim)\n",
    "    def forward(self, x):\n",
    "        return self.dense(x)[..., None, None]\n",
    "\n",
    "class ScoreNet(nn.Module):\n",
    "    # \n",
    "    def __init__(self, marginal_prob_std, channels = [32, 64, 128, 256], embed_dim = 256):\n",
    "        \n",
    "    \n",
    "        "
   ]
  },
  {
   "cell_type": "code",
   "execution_count": null,
   "id": "874b17b8",
   "metadata": {},
   "outputs": [],
   "source": []
  }
 ],
 "metadata": {
  "kernelspec": {
   "display_name": "Python 3 (ipykernel)",
   "language": "python",
   "name": "python3"
  },
  "language_info": {
   "codemirror_mode": {
    "name": "ipython",
    "version": 3
   },
   "file_extension": ".py",
   "mimetype": "text/x-python",
   "name": "python",
   "nbconvert_exporter": "python",
   "pygments_lexer": "ipython3",
   "version": "3.9.15"
  }
 },
 "nbformat": 4,
 "nbformat_minor": 5
}
